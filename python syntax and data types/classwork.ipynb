{
  "nbformat": 4,
  "nbformat_minor": 0,
  "metadata": {
    "colab": {
      "provenance": []
    },
    "kernelspec": {
      "name": "python3",
      "display_name": "Python 3"
    },
    "language_info": {
      "name": "python"
    }
  },
  "cells": [
    {
      "cell_type": "code",
      "execution_count": null,
      "metadata": {
        "id": "IkSRfie63_5d"
      },
      "outputs": [],
      "source": []
    },
    {
      "cell_type": "markdown",
      "source": [
        "### python syntax"
      ],
      "metadata": {
        "id": "KIDhigyr4NMd"
      }
    },
    {
      "cell_type": "markdown",
      "source": [
        "#### comments"
      ],
      "metadata": {
        "id": "UaYPHA5t4UPz"
      }
    },
    {
      "cell_type": "code",
      "source": [
        "#This a comment\n",
        "print(\"hello world\")#this is another comment"
      ],
      "metadata": {
        "colab": {
          "base_uri": "https://localhost:8080/"
        },
        "id": "SF1txyxF4RPK",
        "outputId": "35a2122c-336b-4bc4-94a7-7e4b9ec5e0f0"
      },
      "execution_count": 3,
      "outputs": [
        {
          "output_type": "stream",
          "name": "stdout",
          "text": [
            "hello world\n"
          ]
        }
      ]
    },
    {
      "cell_type": "markdown",
      "source": [
        "#### indentation"
      ],
      "metadata": {
        "id": "5W47HAZk4ll3"
      }
    },
    {
      "cell_type": "code",
      "source": [
        "x = 5\n",
        "if x == 5:\n",
        "    print(\"hello\")"
      ],
      "metadata": {
        "colab": {
          "base_uri": "https://localhost:8080/"
        },
        "id": "YFrJnZus4byf",
        "outputId": "8bc3146f-c5c1-4c2a-f4fd-f1832b099976"
      },
      "execution_count": 6,
      "outputs": [
        {
          "output_type": "stream",
          "name": "stdout",
          "text": [
            "hello\n"
          ]
        }
      ]
    },
    {
      "cell_type": "markdown",
      "source": [
        "### print function"
      ],
      "metadata": {
        "id": "eLjhx8Tv44AG"
      }
    },
    {
      "cell_type": "code",
      "source": [
        "print(\"hello world\")"
      ],
      "metadata": {
        "colab": {
          "base_uri": "https://localhost:8080/"
        },
        "id": "ChUmhatK43OB",
        "outputId": "2cc22471-0346-4777-defd-b9a711a63760"
      },
      "execution_count": 7,
      "outputs": [
        {
          "output_type": "stream",
          "name": "stdout",
          "text": [
            "hello world\n"
          ]
        }
      ]
    },
    {
      "cell_type": "markdown",
      "source": [
        "### VARIABLE\n",
        "-a variable is used to data value\n",
        "\n",
        "-to assign value to a variable we = operator"
      ],
      "metadata": {
        "id": "l8TRCdQL5XXt"
      }
    },
    {
      "cell_type": "code",
      "source": [
        "name=\"Lucy\""
      ],
      "metadata": {
        "id": "zqqXSWQ_5h_4"
      },
      "execution_count": 8,
      "outputs": []
    },
    {
      "cell_type": "code",
      "source": [
        "print(name)"
      ],
      "metadata": {
        "colab": {
          "base_uri": "https://localhost:8080/"
        },
        "id": "daTmfAjI5fzX",
        "outputId": "70ca9984-91d1-49c5-d11e-a4f8721fe53d"
      },
      "execution_count": 9,
      "outputs": [
        {
          "output_type": "stream",
          "name": "stdout",
          "text": [
            "Lucy\n"
          ]
        }
      ]
    },
    {
      "cell_type": "markdown",
      "source": [
        "### variable naming rules"
      ],
      "metadata": {
        "id": "YKKPfRhA57_N"
      }
    },
    {
      "cell_type": "markdown",
      "source": [
        "\n",
        "\n",
        "*   A variable names must start with a letter(a-z or A-z) or underscore\n",
        "*   A varable names can contain letters ,digits and underscore\n",
        "\n",
        "\n",
        "*   Variable names as case sensitive(NAME and name are diffrent variables)\n",
        "*   python keywords(e.g if,for,while,def) cannot be used as a variables names\n",
        "\n",
        "\n",
        "\n"
      ],
      "metadata": {
        "id": "cL7jqE9l6B8p"
      }
    },
    {
      "cell_type": "markdown",
      "source": [
        "### Data types in python"
      ],
      "metadata": {
        "id": "xz5oYPLd7ULX"
      }
    },
    {
      "cell_type": "markdown",
      "source": [
        "#### A data type is type of data a variable can hold"
      ],
      "metadata": {
        "id": "JBJxvFiJ7e_n"
      }
    },
    {
      "cell_type": "markdown",
      "source": [
        "\n",
        "\n",
        "*   NUMBERS\n",
        "-INTERGER->whole number\n",
        "-FLOAT-->a float is a number with a decimal point\n",
        "-COMPLEX-->a number with a real and imagenary part\n",
        "\n",
        "\n",
        "\n",
        "*   A string -->is a sequence of characters enclosed single or double quotes\n",
        "\n",
        "\n",
        "\n",
        "\n",
        "*   list--->ordered mutable collection of items\n",
        "\n",
        "*   tuples-->ordered , immutable collections of  items\n",
        "*   Sets--->Unordered,immutable collection of unique items\n",
        "*   Dictionaries-->Unordered collection of key-value pairs\n",
        "\n",
        "\n",
        "\n",
        "\n",
        "\n",
        "\n",
        "\n",
        "\n",
        "\n",
        "\n"
      ],
      "metadata": {
        "id": "lxvCa60S7mCL"
      }
    },
    {
      "cell_type": "markdown",
      "source": [
        "#### interger"
      ],
      "metadata": {
        "id": "qr_PB04a8P6I"
      }
    },
    {
      "cell_type": "code",
      "source": [
        "x=10"
      ],
      "metadata": {
        "id": "5Z1eJiJ-56yn"
      },
      "execution_count": 20,
      "outputs": []
    },
    {
      "cell_type": "code",
      "source": [
        "type(x)"
      ],
      "metadata": {
        "colab": {
          "base_uri": "https://localhost:8080/"
        },
        "id": "yoO1FceL77-Z",
        "outputId": "85c38473-f801-41ce-9652-6f5351953ea2"
      },
      "execution_count": 21,
      "outputs": [
        {
          "output_type": "execute_result",
          "data": {
            "text/plain": [
              "int"
            ]
          },
          "metadata": {},
          "execution_count": 21
        }
      ]
    },
    {
      "cell_type": "code",
      "source": [
        "y=-10"
      ],
      "metadata": {
        "id": "60qXGTWH8VSh"
      },
      "execution_count": 23,
      "outputs": []
    },
    {
      "cell_type": "code",
      "source": [
        "type(y)"
      ],
      "metadata": {
        "colab": {
          "base_uri": "https://localhost:8080/"
        },
        "id": "O9mp9C9u6puk",
        "outputId": "d9721e6b-c4f8-41b8-a10c-b6c887a81d04"
      },
      "execution_count": 24,
      "outputs": [
        {
          "output_type": "execute_result",
          "data": {
            "text/plain": [
              "int"
            ]
          },
          "metadata": {},
          "execution_count": 24
        }
      ]
    },
    {
      "cell_type": "markdown",
      "source": [
        "####float"
      ],
      "metadata": {
        "id": "j_SUPz_p8dlH"
      }
    },
    {
      "cell_type": "code",
      "source": [
        "x=3.40"
      ],
      "metadata": {
        "id": "2zuAdNnI6sVt"
      },
      "execution_count": 25,
      "outputs": []
    },
    {
      "cell_type": "code",
      "source": [
        "type(x)"
      ],
      "metadata": {
        "colab": {
          "base_uri": "https://localhost:8080/"
        },
        "id": "1ns8Jp6i8ifh",
        "outputId": "4145367a-8d0e-4767-fc63-39a7605200d8"
      },
      "execution_count": 26,
      "outputs": [
        {
          "output_type": "execute_result",
          "data": {
            "text/plain": [
              "float"
            ]
          },
          "metadata": {},
          "execution_count": 26
        }
      ]
    },
    {
      "cell_type": "markdown",
      "source": [
        "#### complex"
      ],
      "metadata": {
        "id": "gLSiOQOV8liM"
      }
    },
    {
      "cell_type": "code",
      "source": [
        "z=1+2j"
      ],
      "metadata": {
        "id": "sNkugICq8pKE"
      },
      "execution_count": 27,
      "outputs": []
    },
    {
      "cell_type": "code",
      "source": [
        "print(z)"
      ],
      "metadata": {
        "colab": {
          "base_uri": "https://localhost:8080/"
        },
        "id": "0zJ5Yf958sfr",
        "outputId": "f02a920d-b070-4156-bf20-aa6a484fc388"
      },
      "execution_count": 28,
      "outputs": [
        {
          "output_type": "stream",
          "name": "stdout",
          "text": [
            "(1+2j)\n"
          ]
        }
      ]
    },
    {
      "cell_type": "code",
      "source": [
        "type(z)"
      ],
      "metadata": {
        "colab": {
          "base_uri": "https://localhost:8080/"
        },
        "id": "cfCfErTB8vPa",
        "outputId": "ba5c9169-47dd-4e07-a464-ed56a2e2c8a1"
      },
      "execution_count": 29,
      "outputs": [
        {
          "output_type": "execute_result",
          "data": {
            "text/plain": [
              "complex"
            ]
          },
          "metadata": {},
          "execution_count": 29
        }
      ]
    },
    {
      "cell_type": "markdown",
      "source": [
        "#### string"
      ],
      "metadata": {
        "id": "A5Txgx219Ap9"
      }
    },
    {
      "cell_type": "code",
      "source": [
        "name=\"John\""
      ],
      "metadata": {
        "id": "Fjfq-ILQ89qO"
      },
      "execution_count": 31,
      "outputs": []
    },
    {
      "cell_type": "code",
      "source": [
        "print(name)"
      ],
      "metadata": {
        "colab": {
          "base_uri": "https://localhost:8080/"
        },
        "id": "7S5WYS5a9Ct3",
        "outputId": "d990dbcf-af58-4155-b51c-cb20995d62c2"
      },
      "execution_count": 32,
      "outputs": [
        {
          "output_type": "stream",
          "name": "stdout",
          "text": [
            "John\n"
          ]
        }
      ]
    },
    {
      "cell_type": "code",
      "source": [
        "type(name)"
      ],
      "metadata": {
        "colab": {
          "base_uri": "https://localhost:8080/"
        },
        "id": "h7hYMQsU9Ft3",
        "outputId": "e9afead6-3049-4ede-c03a-868344a836b3"
      },
      "execution_count": 33,
      "outputs": [
        {
          "output_type": "execute_result",
          "data": {
            "text/plain": [
              "str"
            ]
          },
          "metadata": {},
          "execution_count": 33
        }
      ]
    },
    {
      "cell_type": "code",
      "source": [
        "name='john'"
      ],
      "metadata": {
        "id": "vJF-yCZ09J8s"
      },
      "execution_count": 34,
      "outputs": []
    },
    {
      "cell_type": "code",
      "source": [
        "print(name)"
      ],
      "metadata": {
        "colab": {
          "base_uri": "https://localhost:8080/"
        },
        "id": "s_XP-g2J9M9N",
        "outputId": "c028f9f4-1eac-4ae1-87df-218b1c8daede"
      },
      "execution_count": 35,
      "outputs": [
        {
          "output_type": "stream",
          "name": "stdout",
          "text": [
            "john\n"
          ]
        }
      ]
    },
    {
      "cell_type": "code",
      "source": [
        "type(name)"
      ],
      "metadata": {
        "colab": {
          "base_uri": "https://localhost:8080/"
        },
        "id": "O5K37Y129PeB",
        "outputId": "3526875c-fdb5-4a05-bf40-abfbf1dc55bc"
      },
      "execution_count": 36,
      "outputs": [
        {
          "output_type": "execute_result",
          "data": {
            "text/plain": [
              "str"
            ]
          },
          "metadata": {},
          "execution_count": 36
        }
      ]
    },
    {
      "cell_type": "markdown",
      "source": [
        "### list"
      ],
      "metadata": {
        "id": "SD6K13JY-6K0"
      }
    },
    {
      "cell_type": "code",
      "source": [
        "my_list=[\"john\",\"Lucy\",\"Peter\"]"
      ],
      "metadata": {
        "id": "PM_td6SG-7pQ"
      },
      "execution_count": 37,
      "outputs": []
    },
    {
      "cell_type": "code",
      "source": [
        "my_list"
      ],
      "metadata": {
        "colab": {
          "base_uri": "https://localhost:8080/"
        },
        "id": "fG0RdDvR_FRj",
        "outputId": "14620533-2a27-4a6e-cb95-79b610804abf"
      },
      "execution_count": 38,
      "outputs": [
        {
          "output_type": "execute_result",
          "data": {
            "text/plain": [
              "['john', 'Lucy', 'Peter']"
            ]
          },
          "metadata": {},
          "execution_count": 38
        }
      ]
    },
    {
      "cell_type": "code",
      "source": [
        "type(my_list)"
      ],
      "metadata": {
        "colab": {
          "base_uri": "https://localhost:8080/"
        },
        "id": "nEm0eJiU_IRy",
        "outputId": "3c487880-df7c-4121-de26-e1c3f821a9a1"
      },
      "execution_count": 39,
      "outputs": [
        {
          "output_type": "execute_result",
          "data": {
            "text/plain": [
              "list"
            ]
          },
          "metadata": {},
          "execution_count": 39
        }
      ]
    },
    {
      "cell_type": "markdown",
      "source": [
        "### Tuples"
      ],
      "metadata": {
        "id": "DPtRX4yx_Qpb"
      }
    },
    {
      "cell_type": "code",
      "source": [
        "my_tuple=(\"john\",\"Lucy\",\"Peter\")"
      ],
      "metadata": {
        "id": "fgkSzCKa_QFe"
      },
      "execution_count": 40,
      "outputs": []
    },
    {
      "cell_type": "code",
      "source": [
        "my_tuple"
      ],
      "metadata": {
        "colab": {
          "base_uri": "https://localhost:8080/"
        },
        "id": "91CRliLj_gYN",
        "outputId": "d6fcbab2-6996-4d9c-875c-f7f6e487d686"
      },
      "execution_count": 41,
      "outputs": [
        {
          "output_type": "execute_result",
          "data": {
            "text/plain": [
              "('john', 'Lucy', 'Peter')"
            ]
          },
          "metadata": {},
          "execution_count": 41
        }
      ]
    },
    {
      "cell_type": "code",
      "source": [
        "type(my_tuple)"
      ],
      "metadata": {
        "colab": {
          "base_uri": "https://localhost:8080/"
        },
        "id": "zp1fcQ3C_nDZ",
        "outputId": "e079bdf1-7ce0-45b7-b896-bebcb9f7599a"
      },
      "execution_count": 42,
      "outputs": [
        {
          "output_type": "execute_result",
          "data": {
            "text/plain": [
              "tuple"
            ]
          },
          "metadata": {},
          "execution_count": 42
        }
      ]
    },
    {
      "cell_type": "markdown",
      "source": [
        "### sets"
      ],
      "metadata": {
        "id": "1aW_fvNF_rCl"
      }
    },
    {
      "cell_type": "code",
      "source": [
        "my_sets={\"john\",\"Lucy\",\"Peter\"}"
      ],
      "metadata": {
        "id": "7yWUFBTz_pw2"
      },
      "execution_count": 43,
      "outputs": []
    },
    {
      "cell_type": "code",
      "source": [
        "print(my_sets)"
      ],
      "metadata": {
        "colab": {
          "base_uri": "https://localhost:8080/"
        },
        "id": "sR_soXoL_1oq",
        "outputId": "90a08f8b-9046-48ed-c130-007500c04e0c"
      },
      "execution_count": 44,
      "outputs": [
        {
          "output_type": "stream",
          "name": "stdout",
          "text": [
            "{'Peter', 'john', 'Lucy'}\n"
          ]
        }
      ]
    },
    {
      "cell_type": "code",
      "source": [
        "type(my_sets)"
      ],
      "metadata": {
        "colab": {
          "base_uri": "https://localhost:8080/"
        },
        "id": "5v-qkmiw_4xM",
        "outputId": "2f445366-5401-44d7-ca72-a9cb27bad3dc"
      },
      "execution_count": 45,
      "outputs": [
        {
          "output_type": "execute_result",
          "data": {
            "text/plain": [
              "set"
            ]
          },
          "metadata": {},
          "execution_count": 45
        }
      ]
    },
    {
      "cell_type": "markdown",
      "source": [
        "### dictionaries"
      ],
      "metadata": {
        "id": "29-HgO1vAAez"
      }
    },
    {
      "cell_type": "code",
      "source": [
        "dict={\"name\":\"john\",\"age\":35,\"sex\":\"male\"}"
      ],
      "metadata": {
        "id": "5MLSnelK__8W"
      },
      "execution_count": 46,
      "outputs": []
    },
    {
      "cell_type": "code",
      "source": [
        "print(dict)"
      ],
      "metadata": {
        "colab": {
          "base_uri": "https://localhost:8080/"
        },
        "id": "1inq_Ar2ARXR",
        "outputId": "a0698954-5970-4a5c-83b7-87152a4f45a9"
      },
      "execution_count": 47,
      "outputs": [
        {
          "output_type": "stream",
          "name": "stdout",
          "text": [
            "{'name': 'john', 'age': 35, 'sex': 'male'}\n"
          ]
        }
      ]
    },
    {
      "cell_type": "code",
      "source": [
        "type(dict)"
      ],
      "metadata": {
        "colab": {
          "base_uri": "https://localhost:8080/"
        },
        "id": "FEuqfzR_AUW6",
        "outputId": "6e06cabf-ba7a-4116-d73e-4e85cf09117b"
      },
      "execution_count": 48,
      "outputs": [
        {
          "output_type": "execute_result",
          "data": {
            "text/plain": [
              "dict"
            ]
          },
          "metadata": {},
          "execution_count": 48
        }
      ]
    },
    {
      "cell_type": "markdown",
      "source": [
        "### Type casting"
      ],
      "metadata": {
        "id": "vxN31lZACVh4"
      }
    },
    {
      "cell_type": "markdown",
      "source": [
        "converting one data type to another"
      ],
      "metadata": {
        "id": "DpD62MBtCcJ0"
      }
    },
    {
      "cell_type": "code",
      "source": [
        "x=\"3\""
      ],
      "metadata": {
        "id": "xdgoSSW-CY65"
      },
      "execution_count": 50,
      "outputs": []
    },
    {
      "cell_type": "code",
      "source": [
        "print(x)"
      ],
      "metadata": {
        "colab": {
          "base_uri": "https://localhost:8080/"
        },
        "id": "WkWycTw3Ckgq",
        "outputId": "a31cd53b-e6c9-4854-a7c3-385122683cfa"
      },
      "execution_count": 51,
      "outputs": [
        {
          "output_type": "stream",
          "name": "stdout",
          "text": [
            "3\n"
          ]
        }
      ]
    },
    {
      "cell_type": "code",
      "source": [
        "type(x)"
      ],
      "metadata": {
        "colab": {
          "base_uri": "https://localhost:8080/"
        },
        "id": "tdz-w87uCn92",
        "outputId": "aa4f1296-ea9f-4cff-8366-21688799c731"
      },
      "execution_count": 52,
      "outputs": [
        {
          "output_type": "execute_result",
          "data": {
            "text/plain": [
              "str"
            ]
          },
          "metadata": {},
          "execution_count": 52
        }
      ]
    },
    {
      "cell_type": "code",
      "source": [
        "y=int(x)"
      ],
      "metadata": {
        "id": "5r1WzraBCtF5"
      },
      "execution_count": 54,
      "outputs": []
    },
    {
      "cell_type": "code",
      "source": [
        "type(y)"
      ],
      "metadata": {
        "colab": {
          "base_uri": "https://localhost:8080/"
        },
        "id": "goFaVnHbCymp",
        "outputId": "114ecf56-afeb-4864-c6c9-e3ae46b19683"
      },
      "execution_count": 55,
      "outputs": [
        {
          "output_type": "execute_result",
          "data": {
            "text/plain": [
              "int"
            ]
          },
          "metadata": {},
          "execution_count": 55
        }
      ]
    },
    {
      "cell_type": "code",
      "source": [
        "z=float(y)"
      ],
      "metadata": {
        "id": "KXuS1NtuC19m"
      },
      "execution_count": 56,
      "outputs": []
    },
    {
      "cell_type": "code",
      "source": [
        "print(z)"
      ],
      "metadata": {
        "colab": {
          "base_uri": "https://localhost:8080/"
        },
        "id": "C79zBqo6C8uH",
        "outputId": "ffd603a8-2e69-421f-f1e5-233d03d79be7"
      },
      "execution_count": 57,
      "outputs": [
        {
          "output_type": "stream",
          "name": "stdout",
          "text": [
            "3.0\n"
          ]
        }
      ]
    },
    {
      "cell_type": "code",
      "source": [
        "type(z)"
      ],
      "metadata": {
        "colab": {
          "base_uri": "https://localhost:8080/"
        },
        "id": "whhMOppdC_Wd",
        "outputId": "f79e3931-f0d2-4eba-8493-3b2cd578a61a"
      },
      "execution_count": 58,
      "outputs": [
        {
          "output_type": "execute_result",
          "data": {
            "text/plain": [
              "float"
            ]
          },
          "metadata": {},
          "execution_count": 58
        }
      ]
    },
    {
      "cell_type": "code",
      "source": [
        "k=str(z)"
      ],
      "metadata": {
        "id": "WH4uQP-mDDjR"
      },
      "execution_count": 61,
      "outputs": []
    },
    {
      "cell_type": "code",
      "source": [
        "print(k)"
      ],
      "metadata": {
        "colab": {
          "base_uri": "https://localhost:8080/"
        },
        "id": "86Q--7zUDI96",
        "outputId": "49d565e3-0335-4384-eff7-f6c54e1ea81c"
      },
      "execution_count": 62,
      "outputs": [
        {
          "output_type": "stream",
          "name": "stdout",
          "text": [
            "3.0\n"
          ]
        }
      ]
    },
    {
      "cell_type": "code",
      "source": [
        "type(k)"
      ],
      "metadata": {
        "colab": {
          "base_uri": "https://localhost:8080/"
        },
        "id": "BXw4iEIzDNsw",
        "outputId": "8b359f07-464f-433a-e35e-931e8ad9676e"
      },
      "execution_count": 63,
      "outputs": [
        {
          "output_type": "execute_result",
          "data": {
            "text/plain": [
              "str"
            ]
          },
          "metadata": {},
          "execution_count": 63
        }
      ]
    },
    {
      "cell_type": "code",
      "source": [
        "l=5"
      ],
      "metadata": {
        "id": "1z3_CHAQDUBL"
      },
      "execution_count": 65,
      "outputs": []
    },
    {
      "cell_type": "code",
      "source": [
        "print(l)"
      ],
      "metadata": {
        "colab": {
          "base_uri": "https://localhost:8080/"
        },
        "id": "zkpYtmcZDXVl",
        "outputId": "3f77fd71-bde1-4894-9890-99bff7ea42e7"
      },
      "execution_count": 66,
      "outputs": [
        {
          "output_type": "stream",
          "name": "stdout",
          "text": [
            "5\n"
          ]
        }
      ]
    },
    {
      "cell_type": "code",
      "source": [
        "type(l)"
      ],
      "metadata": {
        "colab": {
          "base_uri": "https://localhost:8080/"
        },
        "id": "hJlgppbvDbxK",
        "outputId": "a1b271f3-c7db-40dc-9082-65cde84a6ccc"
      },
      "execution_count": 67,
      "outputs": [
        {
          "output_type": "execute_result",
          "data": {
            "text/plain": [
              "int"
            ]
          },
          "metadata": {},
          "execution_count": 67
        }
      ]
    },
    {
      "cell_type": "code",
      "source": [
        "m=str(l)"
      ],
      "metadata": {
        "id": "PZY9z1RQDeVz"
      },
      "execution_count": 68,
      "outputs": []
    },
    {
      "cell_type": "code",
      "source": [
        "print(m)"
      ],
      "metadata": {
        "colab": {
          "base_uri": "https://localhost:8080/"
        },
        "id": "8pDrZ89EDhWU",
        "outputId": "e07565c7-3e09-4a7e-e009-49896a367e74"
      },
      "execution_count": 69,
      "outputs": [
        {
          "output_type": "stream",
          "name": "stdout",
          "text": [
            "5\n"
          ]
        }
      ]
    },
    {
      "cell_type": "code",
      "source": [
        "type(m)"
      ],
      "metadata": {
        "colab": {
          "base_uri": "https://localhost:8080/"
        },
        "id": "IEhBVrHvDjoJ",
        "outputId": "0241c656-fe9b-437b-ca30-333be61b9524"
      },
      "execution_count": 70,
      "outputs": [
        {
          "output_type": "execute_result",
          "data": {
            "text/plain": [
              "str"
            ]
          },
          "metadata": {},
          "execution_count": 70
        }
      ]
    },
    {
      "cell_type": "code",
      "source": [
        "y=3.14"
      ],
      "metadata": {
        "id": "4c01CNUrDq_U"
      },
      "execution_count": 71,
      "outputs": []
    },
    {
      "cell_type": "code",
      "source": [
        "print(y)"
      ],
      "metadata": {
        "colab": {
          "base_uri": "https://localhost:8080/"
        },
        "id": "9MA3XxCvDuAy",
        "outputId": "26d81835-373e-422d-90d0-72deba370267"
      },
      "execution_count": 72,
      "outputs": [
        {
          "output_type": "stream",
          "name": "stdout",
          "text": [
            "3.14\n"
          ]
        }
      ]
    },
    {
      "cell_type": "code",
      "source": [
        "type(y)"
      ],
      "metadata": {
        "colab": {
          "base_uri": "https://localhost:8080/"
        },
        "id": "LxjyvRenDx4Y",
        "outputId": "fc390173-42b0-4a75-81f3-840cc8159ab8"
      },
      "execution_count": 74,
      "outputs": [
        {
          "output_type": "execute_result",
          "data": {
            "text/plain": [
              "float"
            ]
          },
          "metadata": {},
          "execution_count": 74
        }
      ]
    },
    {
      "cell_type": "code",
      "source": [
        "s=int(y)"
      ],
      "metadata": {
        "id": "4TcBCKd7D1gb"
      },
      "execution_count": 75,
      "outputs": []
    },
    {
      "cell_type": "code",
      "source": [
        "print(s)"
      ],
      "metadata": {
        "colab": {
          "base_uri": "https://localhost:8080/"
        },
        "id": "uCFotcpHD47D",
        "outputId": "888f8c38-b59d-4ecd-e347-95686d886e62"
      },
      "execution_count": 76,
      "outputs": [
        {
          "output_type": "stream",
          "name": "stdout",
          "text": [
            "3\n"
          ]
        }
      ]
    },
    {
      "cell_type": "code",
      "source": [
        "type(s)"
      ],
      "metadata": {
        "colab": {
          "base_uri": "https://localhost:8080/"
        },
        "id": "ijZ7rDR1D7cA",
        "outputId": "cc39c117-e164-41b4-ad9d-463a00ba1a21"
      },
      "execution_count": 77,
      "outputs": [
        {
          "output_type": "execute_result",
          "data": {
            "text/plain": [
              "int"
            ]
          },
          "metadata": {},
          "execution_count": 77
        }
      ]
    },
    {
      "cell_type": "code",
      "source": [
        "string1=\"100000\""
      ],
      "metadata": {
        "id": "-EfwdTOxECh-"
      },
      "execution_count": 79,
      "outputs": []
    },
    {
      "cell_type": "code",
      "source": [
        "type(string1)"
      ],
      "metadata": {
        "colab": {
          "base_uri": "https://localhost:8080/"
        },
        "id": "4qto6DX9EQxL",
        "outputId": "0833423c-142c-49f8-9a3e-b6d6250bebc1"
      },
      "execution_count": 80,
      "outputs": [
        {
          "output_type": "execute_result",
          "data": {
            "text/plain": [
              "str"
            ]
          },
          "metadata": {},
          "execution_count": 80
        }
      ]
    },
    {
      "cell_type": "code",
      "source": [
        "int1=int(string1)"
      ],
      "metadata": {
        "id": "ST5_HdOXETTS"
      },
      "execution_count": 81,
      "outputs": []
    },
    {
      "cell_type": "code",
      "source": [
        "type(int1)"
      ],
      "metadata": {
        "colab": {
          "base_uri": "https://localhost:8080/"
        },
        "id": "beSkMbblEYEQ",
        "outputId": "66960cef-fa3f-40c5-b318-3fddee84a29d"
      },
      "execution_count": 82,
      "outputs": [
        {
          "output_type": "execute_result",
          "data": {
            "text/plain": [
              "int"
            ]
          },
          "metadata": {},
          "execution_count": 82
        }
      ]
    },
    {
      "cell_type": "code",
      "source": [
        "float1=float(string1)"
      ],
      "metadata": {
        "id": "4wEWsI64EbZx"
      },
      "execution_count": 83,
      "outputs": []
    },
    {
      "cell_type": "code",
      "source": [
        "type(float1)"
      ],
      "metadata": {
        "colab": {
          "base_uri": "https://localhost:8080/"
        },
        "id": "it1Xq38rEehO",
        "outputId": "cb130706-376c-4c90-cd24-8b4bc78bdba6"
      },
      "execution_count": 84,
      "outputs": [
        {
          "output_type": "execute_result",
          "data": {
            "text/plain": [
              "float"
            ]
          },
          "metadata": {},
          "execution_count": 84
        }
      ]
    },
    {
      "cell_type": "markdown",
      "source": [
        "### variables in string"
      ],
      "metadata": {
        "id": "uMGC-w23Fdox"
      }
    },
    {
      "cell_type": "markdown",
      "source": [
        "#### variable in string using formating techniques"
      ],
      "metadata": {
        "id": "aeKuMR2wFnAr"
      }
    },
    {
      "cell_type": "markdown",
      "source": [
        "### +"
      ],
      "metadata": {
        "id": "IbhuczSxGOVD"
      }
    },
    {
      "cell_type": "code",
      "source": [
        "name=\"Alice\"\n",
        "age=30\n",
        "\n",
        "print(\"Hello \" + name + \" you are \" +str(age) + \" years\")"
      ],
      "metadata": {
        "colab": {
          "base_uri": "https://localhost:8080/"
        },
        "id": "nAPasdB1FhRF",
        "outputId": "74056019-5882-4657-f704-16cffa456903"
      },
      "execution_count": 93,
      "outputs": [
        {
          "output_type": "stream",
          "name": "stdout",
          "text": [
            "Hello Alice you are 30 years\n"
          ]
        }
      ]
    },
    {
      "cell_type": "code",
      "source": [
        "name=\"Alice\"\n",
        "age=30\n",
        "sex=\"male\"\n",
        "print(f\"Hello {name} you are {age} years old and your sex is{sex}\")\n",
        "print(\"Hello {} you are {} years old and your sex is{}\".format(name,age,sex))\n",
        "print(\"Hello \" +name + \"you are \"+age+ \" years old and your sex is \" + sex)\n"
      ],
      "metadata": {
        "id": "eOb2_5BvIeYc"
      },
      "execution_count": null,
      "outputs": []
    },
    {
      "cell_type": "markdown",
      "source": [
        "### str.formart() method"
      ],
      "metadata": {
        "id": "CBbYxvx-GM0_"
      }
    },
    {
      "cell_type": "code",
      "source": [
        "name=\"Alice\"\n",
        "age=30\n",
        "greeting =\"Hello, {} , you are {} years old:\".format(name,age)\n",
        "print(greeting)"
      ],
      "metadata": {
        "colab": {
          "base_uri": "https://localhost:8080/"
        },
        "id": "JCNnaFJcGMFo",
        "outputId": "80124bdc-d76c-4a09-f254-e9e42162d72f"
      },
      "execution_count": 91,
      "outputs": [
        {
          "output_type": "stream",
          "name": "stdout",
          "text": [
            "Hello, Alice , you are 30 years old:\n"
          ]
        }
      ]
    },
    {
      "cell_type": "markdown",
      "source": [
        "### using f-string\n",
        "### the most commonly used"
      ],
      "metadata": {
        "id": "YxASnLEaHI2E"
      }
    },
    {
      "cell_type": "code",
      "source": [
        "name=\"Alice\"\n",
        "age=30\n",
        "print(f\"Hello {name}!, you are {age} years old\")"
      ],
      "metadata": {
        "id": "eS90z7lIHH6R"
      },
      "execution_count": null,
      "outputs": []
    },
    {
      "cell_type": "code",
      "source": [],
      "metadata": {
        "id": "w2irPRyHNCMZ"
      },
      "execution_count": null,
      "outputs": []
    }
  ]
}